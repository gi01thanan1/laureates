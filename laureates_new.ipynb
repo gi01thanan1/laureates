{
 "cells": [
  {
   "cell_type": "code",
   "execution_count": null,
   "metadata": {},
   "outputs": [],
   "source": [
    "import requests\n",
    "from bs4 import BeautifulSoup\n",
    "link = \"https://en.wikipedia.org/wiki/List_of_Nobel_laureates\"\n",
    "res = requests.get(link)\n",
    "soup = BeautifulSoup(res.text , \"html.parser\")\n",
    "\n",
    "tbody = soup.find(\"tbody\")\n",
    "\n",
    "tr = tbody.find_all(\"tr\")\n",
    "# len(tr)\n",
    "# tr[1]\n",
    "# td_all =tr[1].find_all(\"td\")\n",
    "# year=td_all[0].text.split(\"\\n\")\n",
    "# year[0]\n",
    "with open(\"laureates.csv\" , mode= \"w\" , encoding=\"utf-8\") as df:\n",
    "    df.write(\"Year,Physics,Chemistry,Physiology Medicine, Literature,Peace,Economics\\n\")\n",
    "    \n",
    "    for i in range(1,len(tr)-1):\n",
    "        print(i)\n",
    "        if i in (40, 41,42):\n",
    "            continue\n",
    "        td_all =tr[i].find_all(\"td\")\n",
    "        year1=td_all[0].text.split(\"\\n\")\n",
    "        year = year1[0]\n",
    "        physics=td_all[1].text.strip()\n",
    "        \n",
    "        chemistry = td_all[2].text.strip()\n",
    "        Physiology_Medicine = td_all[3].text.strip()\n",
    "        Literature = td_all[4].text.strip()\n",
    "        Peace = td_all[5].text.strip()\n",
    "        try:\n",
    "            Economics = td_all[6].text.strip()\n",
    "        except:\n",
    "            Economics = \"\"\n",
    "\n",
    "        df.write(f\"\\\"{year}\\\",\\\"{physics}\\\",\\\"{chemistry}\\\",\\\"{Physiology_Medicine}\\\",\\\"{Literature}\\\",\\\"{Peace}\\\",\\\"{Economics}\\\"\\n\")\n"
   ]
  }
 ],
 "metadata": {
  "kernelspec": {
   "display_name": "machine_learning",
   "language": "python",
   "name": "python3"
  },
  "language_info": {
   "name": "python",
   "version": "3.6.13"
  }
 },
 "nbformat": 4,
 "nbformat_minor": 2
}
