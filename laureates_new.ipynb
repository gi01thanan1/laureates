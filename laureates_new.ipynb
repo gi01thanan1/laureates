{
 "cells": [
  {
   "cell_type": "code",
   "execution_count": 10,
   "metadata": {},
   "outputs": [],
   "source": [
    "import requests\n",
    "from bs4 import BeautifulSoup\n",
    "link = \"https://en.wikipedia.org/wiki/List_of_Nobel_laureates\"\n",
    "res = requests.get(link)\n",
    "soup = BeautifulSoup(res.text , \"html.parser\")\n",
    "\n",
    "tbody = soup.find(\"tbody\")\n",
    "\n",
    "tr = tbody.find_all(\"tr\")\n",
    "len(tr)\n",
    "tr[0]\n",
    "header =tr[0].find_all(\"th\")\n",
    "# for j in range(len(header)):\n",
    "#     cell=header[j].text.strip()\n",
    "#     print(cell)\n",
    "# year[0]\n",
    "with open(\"laureates_test.csv\" , mode= \"w\" , encoding=\"utf-8\") as df:\n",
    "    for j in range(len(header)):#for header of the table\n",
    "        cell_header=header[j].text.strip()\n",
    "    \n",
    "        df.write(f\"{cell_header},\")\n",
    "    df.write(f\"\\n\")\n",
    "    for i in range(1,len(tr)-1):\n",
    "       \n",
    "        td_all =tr[i].find_all(\"td\")\n",
    "       #no_of_cells = len(td_all)\n",
    "        for k in range(len(td_all)):\n",
    "            try:\n",
    "                cell = td_all[k].text.strip()\n",
    "            except:\n",
    "                cell =\"\"\n",
    "        \n",
    "\n",
    "            df.write(f\"\\\"{cell}\\\",\")\n",
    "        df.write(f\"\\n\")\n",
    "        \n"
   ]
  },
  {
   "cell_type": "markdown",
   "metadata": {},
   "source": [
    "#github link\n",
    "https://github.com/gi01thanan1/laureates"
   ]
  }
 ],
 "metadata": {
  "kernelspec": {
   "display_name": "machine_learning",
   "language": "python",
   "name": "python3"
  },
  "language_info": {
   "codemirror_mode": {
    "name": "ipython",
    "version": 3
   },
   "file_extension": ".py",
   "mimetype": "text/x-python",
   "name": "python",
   "nbconvert_exporter": "python",
   "pygments_lexer": "ipython3",
   "version": "3.6.13"
  }
 },
 "nbformat": 4,
 "nbformat_minor": 2
}
